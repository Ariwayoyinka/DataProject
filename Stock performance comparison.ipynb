{
 "cells": [
  {
   "cell_type": "code",
   "execution_count": 1,
   "id": "cc5b6323",
   "metadata": {},
   "outputs": [
    {
     "name": "stdout",
     "output_type": "stream",
     "text": [
      "Requirement already satisfied: pandas-datareader in ./miniconda3/envs/av/lib/python3.10/site-packages (0.10.0)\n",
      "Requirement already satisfied: pandas>=0.23 in ./miniconda3/envs/av/lib/python3.10/site-packages (from pandas-datareader) (1.5.3)\n",
      "Requirement already satisfied: requests>=2.19.0 in ./miniconda3/envs/av/lib/python3.10/site-packages (from pandas-datareader) (2.31.0)\n",
      "Requirement already satisfied: lxml in ./miniconda3/envs/av/lib/python3.10/site-packages (from pandas-datareader) (4.9.1)\n",
      "Requirement already satisfied: python-dateutil>=2.8.1 in ./miniconda3/envs/av/lib/python3.10/site-packages (from pandas>=0.23->pandas-datareader) (2.8.2)\n",
      "Requirement already satisfied: pytz>=2020.1 in ./miniconda3/envs/av/lib/python3.10/site-packages (from pandas>=0.23->pandas-datareader) (2022.7)\n",
      "Requirement already satisfied: numpy>=1.21.0 in ./miniconda3/envs/av/lib/python3.10/site-packages (from pandas>=0.23->pandas-datareader) (1.23.5)\n",
      "Requirement already satisfied: charset-normalizer<4,>=2 in ./miniconda3/envs/av/lib/python3.10/site-packages (from requests>=2.19.0->pandas-datareader) (2.0.4)\n",
      "Requirement already satisfied: urllib3<3,>=1.21.1 in ./miniconda3/envs/av/lib/python3.10/site-packages (from requests>=2.19.0->pandas-datareader) (1.26.14)\n",
      "Requirement already satisfied: certifi>=2017.4.17 in ./miniconda3/envs/av/lib/python3.10/site-packages (from requests>=2.19.0->pandas-datareader) (2022.12.7)\n",
      "Requirement already satisfied: idna<4,>=2.5 in ./miniconda3/envs/av/lib/python3.10/site-packages (from requests>=2.19.0->pandas-datareader) (3.4)\n",
      "Requirement already satisfied: six>=1.5 in ./miniconda3/envs/av/lib/python3.10/site-packages (from python-dateutil>=2.8.1->pandas>=0.23->pandas-datareader) (1.16.0)\n",
      "Note: you may need to restart the kernel to use updated packages.\n"
     ]
    }
   ],
   "source": [
    "pip install pandas-datareader"
   ]
  },
  {
   "cell_type": "code",
   "execution_count": 2,
   "id": "4e532415",
   "metadata": {
    "scrolled": true
   },
   "outputs": [
    {
     "name": "stdout",
     "output_type": "stream",
     "text": [
      "Requirement already satisfied: yfinance in ./miniconda3/envs/av/lib/python3.10/site-packages (0.2.27)\n",
      "Requirement already satisfied: appdirs>=1.4.4 in ./miniconda3/envs/av/lib/python3.10/site-packages (from yfinance) (1.4.4)\n",
      "Requirement already satisfied: multitasking>=0.0.7 in ./miniconda3/envs/av/lib/python3.10/site-packages (from yfinance) (0.0.11)\n",
      "Requirement already satisfied: frozendict>=2.3.4 in ./miniconda3/envs/av/lib/python3.10/site-packages (from yfinance) (2.3.8)\n",
      "Requirement already satisfied: beautifulsoup4>=4.11.1 in ./miniconda3/envs/av/lib/python3.10/site-packages (from yfinance) (4.11.1)\n",
      "Requirement already satisfied: pandas>=1.3.0 in ./miniconda3/envs/av/lib/python3.10/site-packages (from yfinance) (1.5.3)\n",
      "Requirement already satisfied: requests>=2.31 in ./miniconda3/envs/av/lib/python3.10/site-packages (from yfinance) (2.31.0)\n",
      "Requirement already satisfied: pytz>=2022.5 in ./miniconda3/envs/av/lib/python3.10/site-packages (from yfinance) (2022.7)\n",
      "Requirement already satisfied: html5lib>=1.1 in ./miniconda3/envs/av/lib/python3.10/site-packages (from yfinance) (1.1)\n",
      "Requirement already satisfied: numpy>=1.16.5 in ./miniconda3/envs/av/lib/python3.10/site-packages (from yfinance) (1.23.5)\n",
      "Requirement already satisfied: lxml>=4.9.1 in ./miniconda3/envs/av/lib/python3.10/site-packages (from yfinance) (4.9.1)\n",
      "Requirement already satisfied: soupsieve>1.2 in ./miniconda3/envs/av/lib/python3.10/site-packages (from beautifulsoup4>=4.11.1->yfinance) (2.3.2.post1)\n",
      "Requirement already satisfied: six>=1.9 in ./miniconda3/envs/av/lib/python3.10/site-packages (from html5lib>=1.1->yfinance) (1.16.0)\n",
      "Requirement already satisfied: webencodings in ./miniconda3/envs/av/lib/python3.10/site-packages (from html5lib>=1.1->yfinance) (0.5.1)\n",
      "Requirement already satisfied: python-dateutil>=2.8.1 in ./miniconda3/envs/av/lib/python3.10/site-packages (from pandas>=1.3.0->yfinance) (2.8.2)\n",
      "Requirement already satisfied: idna<4,>=2.5 in ./miniconda3/envs/av/lib/python3.10/site-packages (from requests>=2.31->yfinance) (3.4)\n",
      "Requirement already satisfied: certifi>=2017.4.17 in ./miniconda3/envs/av/lib/python3.10/site-packages (from requests>=2.31->yfinance) (2022.12.7)\n",
      "Requirement already satisfied: charset-normalizer<4,>=2 in ./miniconda3/envs/av/lib/python3.10/site-packages (from requests>=2.31->yfinance) (2.0.4)\n",
      "Requirement already satisfied: urllib3<3,>=1.21.1 in ./miniconda3/envs/av/lib/python3.10/site-packages (from requests>=2.31->yfinance) (1.26.14)\n",
      "Note: you may need to restart the kernel to use updated packages.\n"
     ]
    }
   ],
   "source": [
    "pip install yfinance"
   ]
  },
  {
   "cell_type": "code",
   "execution_count": 3,
   "id": "2ce8257b",
   "metadata": {},
   "outputs": [],
   "source": [
    "import pandas as pd\n",
    "from pandas_datareader import data as pdr\n",
    "import yfinance as yfin\n",
    "yfin.pdr_override()\n",
    "import matplotlib.pyplot as plt"
   ]
  },
  {
   "cell_type": "code",
   "execution_count": 5,
   "id": "85482d20",
   "metadata": {},
   "outputs": [
    {
     "name": "stdout",
     "output_type": "stream",
     "text": [
      "[*********************100%***********************]  1 of 1 completed\n",
      "[*********************100%***********************]  1 of 1 completed\n",
      "[*********************100%***********************]  1 of 1 completed\n",
      "[*********************100%***********************]  1 of 1 completed\n",
      "[*********************100%***********************]  1 of 1 completed\n"
     ]
    }
   ],
   "source": [
    "tickers = ['AAPL','GOOGL','BNP','TSLA','MSFT']\n",
    "new_data = pd.DataFrame()\n",
    "for t in tickers:\n",
    "    new_data[t]= pdr.get_data_yahoo(t, start='2017-1-1', end='2022-12-31')['Adj Close']"
   ]
  },
  {
   "cell_type": "code",
   "execution_count": 13,
   "id": "973b47f7",
   "metadata": {},
   "outputs": [
    {
     "name": "stdout",
     "output_type": "stream",
     "text": [
      "<class 'pandas.core.frame.DataFrame'>\n",
      "DatetimeIndex: 1510 entries, 2017-01-03 to 2022-12-30\n",
      "Data columns (total 5 columns):\n",
      " #   Column  Non-Null Count  Dtype  \n",
      "---  ------  --------------  -----  \n",
      " 0   AAPL    1510 non-null   float64\n",
      " 1   GOOGL   1510 non-null   float64\n",
      " 2   BNP     291 non-null    float64\n",
      " 3   TSLA    1510 non-null   float64\n",
      " 4   MSFT    1510 non-null   float64\n",
      "dtypes: float64(5)\n",
      "memory usage: 70.8 KB\n"
     ]
    }
   ],
   "source": [
    "new_data.info()"
   ]
  },
  {
   "cell_type": "code",
   "execution_count": 7,
   "id": "3c64d6fa",
   "metadata": {},
   "outputs": [
    {
     "data": {
      "text/html": [
       "<div>\n",
       "<style scoped>\n",
       "    .dataframe tbody tr th:only-of-type {\n",
       "        vertical-align: middle;\n",
       "    }\n",
       "\n",
       "    .dataframe tbody tr th {\n",
       "        vertical-align: top;\n",
       "    }\n",
       "\n",
       "    .dataframe thead th {\n",
       "        text-align: right;\n",
       "    }\n",
       "</style>\n",
       "<table border=\"1\" class=\"dataframe\">\n",
       "  <thead>\n",
       "    <tr style=\"text-align: right;\">\n",
       "      <th></th>\n",
       "      <th>AAPL</th>\n",
       "      <th>GOOGL</th>\n",
       "      <th>BNP</th>\n",
       "      <th>TSLA</th>\n",
       "      <th>MSFT</th>\n",
       "    </tr>\n",
       "    <tr>\n",
       "      <th>Date</th>\n",
       "      <th></th>\n",
       "      <th></th>\n",
       "      <th></th>\n",
       "      <th></th>\n",
       "      <th></th>\n",
       "    </tr>\n",
       "  </thead>\n",
       "  <tbody>\n",
       "    <tr>\n",
       "      <th>2017-01-03</th>\n",
       "      <td>27.095846</td>\n",
       "      <td>40.400501</td>\n",
       "      <td>45.446999</td>\n",
       "      <td>14.466000</td>\n",
       "      <td>57.375919</td>\n",
       "    </tr>\n",
       "    <tr>\n",
       "      <th>2017-01-04</th>\n",
       "      <td>27.065519</td>\n",
       "      <td>40.388500</td>\n",
       "      <td>45.446999</td>\n",
       "      <td>15.132667</td>\n",
       "      <td>57.119209</td>\n",
       "    </tr>\n",
       "    <tr>\n",
       "      <th>2017-01-05</th>\n",
       "      <td>27.203161</td>\n",
       "      <td>40.651001</td>\n",
       "      <td>45.446999</td>\n",
       "      <td>15.116667</td>\n",
       "      <td>57.119209</td>\n",
       "    </tr>\n",
       "    <tr>\n",
       "      <th>2017-01-06</th>\n",
       "      <td>27.506430</td>\n",
       "      <td>41.260502</td>\n",
       "      <td>45.446999</td>\n",
       "      <td>15.267333</td>\n",
       "      <td>57.614296</td>\n",
       "    </tr>\n",
       "    <tr>\n",
       "      <th>2017-01-09</th>\n",
       "      <td>27.758373</td>\n",
       "      <td>41.359001</td>\n",
       "      <td>45.446999</td>\n",
       "      <td>15.418667</td>\n",
       "      <td>57.430931</td>\n",
       "    </tr>\n",
       "  </tbody>\n",
       "</table>\n",
       "</div>"
      ],
      "text/plain": [
       "                 AAPL      GOOGL        BNP       TSLA       MSFT\n",
       "Date                                                             \n",
       "2017-01-03  27.095846  40.400501  45.446999  14.466000  57.375919\n",
       "2017-01-04  27.065519  40.388500  45.446999  15.132667  57.119209\n",
       "2017-01-05  27.203161  40.651001  45.446999  15.116667  57.119209\n",
       "2017-01-06  27.506430  41.260502  45.446999  15.267333  57.614296\n",
       "2017-01-09  27.758373  41.359001  45.446999  15.418667  57.430931"
      ]
     },
     "execution_count": 7,
     "metadata": {},
     "output_type": "execute_result"
    }
   ],
   "source": [
    "new_data.head()"
   ]
  },
  {
   "cell_type": "code",
   "execution_count": 10,
   "id": "59fa1dd7",
   "metadata": {},
   "outputs": [
    {
     "data": {
      "text/html": [
       "<div>\n",
       "<style scoped>\n",
       "    .dataframe tbody tr th:only-of-type {\n",
       "        vertical-align: middle;\n",
       "    }\n",
       "\n",
       "    .dataframe tbody tr th {\n",
       "        vertical-align: top;\n",
       "    }\n",
       "\n",
       "    .dataframe thead th {\n",
       "        text-align: right;\n",
       "    }\n",
       "</style>\n",
       "<table border=\"1\" class=\"dataframe\">\n",
       "  <thead>\n",
       "    <tr style=\"text-align: right;\">\n",
       "      <th></th>\n",
       "      <th>AAPL</th>\n",
       "      <th>GOOGL</th>\n",
       "      <th>BNP</th>\n",
       "      <th>TSLA</th>\n",
       "      <th>MSFT</th>\n",
       "    </tr>\n",
       "    <tr>\n",
       "      <th>Date</th>\n",
       "      <th></th>\n",
       "      <th></th>\n",
       "      <th></th>\n",
       "      <th></th>\n",
       "      <th></th>\n",
       "    </tr>\n",
       "  </thead>\n",
       "  <tbody>\n",
       "    <tr>\n",
       "      <th>2022-12-23</th>\n",
       "      <td>131.477127</td>\n",
       "      <td>89.230003</td>\n",
       "      <td>NaN</td>\n",
       "      <td>123.150002</td>\n",
       "      <td>237.614105</td>\n",
       "    </tr>\n",
       "    <tr>\n",
       "      <th>2022-12-27</th>\n",
       "      <td>129.652435</td>\n",
       "      <td>87.389999</td>\n",
       "      <td>NaN</td>\n",
       "      <td>109.099998</td>\n",
       "      <td>235.852386</td>\n",
       "    </tr>\n",
       "    <tr>\n",
       "      <th>2022-12-28</th>\n",
       "      <td>125.674019</td>\n",
       "      <td>86.019997</td>\n",
       "      <td>NaN</td>\n",
       "      <td>112.709999</td>\n",
       "      <td>233.433731</td>\n",
       "    </tr>\n",
       "    <tr>\n",
       "      <th>2022-12-29</th>\n",
       "      <td>129.233658</td>\n",
       "      <td>88.449997</td>\n",
       "      <td>NaN</td>\n",
       "      <td>121.820000</td>\n",
       "      <td>239.883438</td>\n",
       "    </tr>\n",
       "    <tr>\n",
       "      <th>2022-12-30</th>\n",
       "      <td>129.552719</td>\n",
       "      <td>88.230003</td>\n",
       "      <td>NaN</td>\n",
       "      <td>123.180000</td>\n",
       "      <td>238.699020</td>\n",
       "    </tr>\n",
       "  </tbody>\n",
       "</table>\n",
       "</div>"
      ],
      "text/plain": [
       "                  AAPL      GOOGL  BNP        TSLA        MSFT\n",
       "Date                                                          \n",
       "2022-12-23  131.477127  89.230003  NaN  123.150002  237.614105\n",
       "2022-12-27  129.652435  87.389999  NaN  109.099998  235.852386\n",
       "2022-12-28  125.674019  86.019997  NaN  112.709999  233.433731\n",
       "2022-12-29  129.233658  88.449997  NaN  121.820000  239.883438\n",
       "2022-12-30  129.552719  88.230003  NaN  123.180000  238.699020"
      ]
     },
     "execution_count": 10,
     "metadata": {},
     "output_type": "execute_result"
    }
   ],
   "source": [
    "new_data.tail()"
   ]
  },
  {
   "cell_type": "markdown",
   "id": "e8a8dd7f",
   "metadata": {},
   "source": [
    "## Normalization to 100: help to normalize data to 100 using P1/P0 * 100"
   ]
  },
  {
   "cell_type": "code",
   "execution_count": 15,
   "id": "3a203d0d",
   "metadata": {},
   "outputs": [
    {
     "data": {
      "text/plain": [
       "AAPL     27.095846\n",
       "GOOGL    40.400501\n",
       "BNP      45.446999\n",
       "TSLA     14.466000\n",
       "MSFT     57.375919\n",
       "Name: 2017-01-03 00:00:00, dtype: float64"
      ]
     },
     "execution_count": 15,
     "metadata": {},
     "output_type": "execute_result"
    }
   ],
   "source": [
    "new_data.iloc[0]"
   ]
  },
  {
   "cell_type": "code",
   "execution_count": 18,
   "id": "0a85c05e",
   "metadata": {},
   "outputs": [
    {
     "data": {
      "image/png": "[encoded data removed]",
      "text/plain": [
       "<Figure size 1500x600 with 1 Axes>"
      ]
     },
     "metadata": {},
     "output_type": "display_data"
    }
   ],
   "source": [
    "(new_data/new_data.iloc[0] * 100).plot(figsize = (15,6));\n",
    "plt.show()"
   ]
  },
  {
   "cell_type": "code",
   "execution_count": 20,
   "id": "e43d6a85",
   "metadata": {},
   "outputs": [
    {
     "data": {
      "text/plain": [
       "AAPL     27.095846\n",
       "GOOGL    40.400501\n",
       "BNP      45.446999\n",
       "TSLA     14.466000\n",
       "MSFT     57.375919\n",
       "Name: 2017-01-03 00:00:00, dtype: float64"
      ]
     },
     "execution_count": 20,
     "metadata": {},
     "output_type": "execute_result"
    }
   ],
   "source": [
    "new_data.loc['2017-01-03']"
   ]
  },
  {
   "cell_type": "markdown",
   "id": "c6196423",
   "metadata": {},
   "source": [
    "## Calculate the Rate of Return"
   ]
  },
  {
   "cell_type": "code",
   "execution_count": 24,
   "id": "aca02d06",
   "metadata": {},
   "outputs": [
    {
     "data": {
      "text/html": [
       "<div>\n",
       "<style scoped>\n",
       "    .dataframe tbody tr th:only-of-type {\n",
       "        vertical-align: middle;\n",
       "    }\n",
       "\n",
       "    .dataframe tbody tr th {\n",
       "        vertical-align: top;\n",
       "    }\n",
       "\n",
       "    .dataframe thead th {\n",
       "        text-align: right;\n",
       "    }\n",
       "</style>\n",
       "<table border=\"1\" class=\"dataframe\">\n",
       "  <thead>\n",
       "    <tr style=\"text-align: right;\">\n",
       "      <th></th>\n",
       "      <th>AAPL</th>\n",
       "      <th>GOOGL</th>\n",
       "      <th>BNP</th>\n",
       "      <th>TSLA</th>\n",
       "      <th>MSFT</th>\n",
       "    </tr>\n",
       "    <tr>\n",
       "      <th>Date</th>\n",
       "      <th></th>\n",
       "      <th></th>\n",
       "      <th></th>\n",
       "      <th></th>\n",
       "      <th></th>\n",
       "    </tr>\n",
       "  </thead>\n",
       "  <tbody>\n",
       "    <tr>\n",
       "      <th>2017-01-03</th>\n",
       "      <td>NaN</td>\n",
       "      <td>NaN</td>\n",
       "      <td>NaN</td>\n",
       "      <td>NaN</td>\n",
       "      <td>NaN</td>\n",
       "    </tr>\n",
       "    <tr>\n",
       "      <th>2017-01-04</th>\n",
       "      <td>-0.001119</td>\n",
       "      <td>-0.000297</td>\n",
       "      <td>0.0</td>\n",
       "      <td>0.046085</td>\n",
       "      <td>-0.004474</td>\n",
       "    </tr>\n",
       "    <tr>\n",
       "      <th>2017-01-05</th>\n",
       "      <td>0.005086</td>\n",
       "      <td>0.006499</td>\n",
       "      <td>0.0</td>\n",
       "      <td>-0.001057</td>\n",
       "      <td>0.000000</td>\n",
       "    </tr>\n",
       "    <tr>\n",
       "      <th>2017-01-06</th>\n",
       "      <td>0.011148</td>\n",
       "      <td>0.014994</td>\n",
       "      <td>0.0</td>\n",
       "      <td>0.009967</td>\n",
       "      <td>0.008668</td>\n",
       "    </tr>\n",
       "    <tr>\n",
       "      <th>2017-01-09</th>\n",
       "      <td>0.009159</td>\n",
       "      <td>0.002387</td>\n",
       "      <td>0.0</td>\n",
       "      <td>0.009912</td>\n",
       "      <td>-0.003183</td>\n",
       "    </tr>\n",
       "  </tbody>\n",
       "</table>\n",
       "</div>"
      ],
      "text/plain": [
       "                AAPL     GOOGL  BNP      TSLA      MSFT\n",
       "Date                                                   \n",
       "2017-01-03       NaN       NaN  NaN       NaN       NaN\n",
       "2017-01-04 -0.001119 -0.000297  0.0  0.046085 -0.004474\n",
       "2017-01-05  0.005086  0.006499  0.0 -0.001057  0.000000\n",
       "2017-01-06  0.011148  0.014994  0.0  0.009967  0.008668\n",
       "2017-01-09  0.009159  0.002387  0.0  0.009912 -0.003183"
      ]
     },
     "execution_count": 24,
     "metadata": {},
     "output_type": "execute_result"
    }
   ],
   "source": [
    "returns = (new_data/new_data.shift(1))-1\n",
    "returns.head()"
   ]
  },
  {
   "cell_type": "code",
   "execution_count": 26,
   "id": "ba3e68e1",
   "metadata": {},
   "outputs": [
    {
     "data": {
      "text/html": [
       "<div>\n",
       "<style scoped>\n",
       "    .dataframe tbody tr th:only-of-type {\n",
       "        vertical-align: middle;\n",
       "    }\n",
       "\n",
       "    .dataframe tbody tr th {\n",
       "        vertical-align: top;\n",
       "    }\n",
       "\n",
       "    .dataframe thead th {\n",
       "        text-align: right;\n",
       "    }\n",
       "</style>\n",
       "<table border=\"1\" class=\"dataframe\">\n",
       "  <thead>\n",
       "    <tr style=\"text-align: right;\">\n",
       "      <th></th>\n",
       "      <th>AAPL</th>\n",
       "      <th>GOOGL</th>\n",
       "      <th>BNP</th>\n",
       "      <th>TSLA</th>\n",
       "      <th>MSFT</th>\n",
       "    </tr>\n",
       "    <tr>\n",
       "      <th>Date</th>\n",
       "      <th></th>\n",
       "      <th></th>\n",
       "      <th></th>\n",
       "      <th></th>\n",
       "      <th></th>\n",
       "    </tr>\n",
       "  </thead>\n",
       "  <tbody>\n",
       "    <tr>\n",
       "      <th>2022-12-23</th>\n",
       "      <td>-0.002798</td>\n",
       "      <td>0.016750</td>\n",
       "      <td>NaN</td>\n",
       "      <td>-0.017551</td>\n",
       "      <td>0.002267</td>\n",
       "    </tr>\n",
       "    <tr>\n",
       "      <th>2022-12-27</th>\n",
       "      <td>-0.013878</td>\n",
       "      <td>-0.020621</td>\n",
       "      <td>NaN</td>\n",
       "      <td>-0.114089</td>\n",
       "      <td>-0.007414</td>\n",
       "    </tr>\n",
       "    <tr>\n",
       "      <th>2022-12-28</th>\n",
       "      <td>-0.030685</td>\n",
       "      <td>-0.015677</td>\n",
       "      <td>NaN</td>\n",
       "      <td>0.033089</td>\n",
       "      <td>-0.010255</td>\n",
       "    </tr>\n",
       "    <tr>\n",
       "      <th>2022-12-29</th>\n",
       "      <td>0.028324</td>\n",
       "      <td>0.028249</td>\n",
       "      <td>NaN</td>\n",
       "      <td>0.080827</td>\n",
       "      <td>0.027630</td>\n",
       "    </tr>\n",
       "    <tr>\n",
       "      <th>2022-12-30</th>\n",
       "      <td>0.002469</td>\n",
       "      <td>-0.002487</td>\n",
       "      <td>NaN</td>\n",
       "      <td>0.011164</td>\n",
       "      <td>-0.004937</td>\n",
       "    </tr>\n",
       "  </tbody>\n",
       "</table>\n",
       "</div>"
      ],
      "text/plain": [
       "                AAPL     GOOGL  BNP      TSLA      MSFT\n",
       "Date                                                   \n",
       "2022-12-23 -0.002798  0.016750  NaN -0.017551  0.002267\n",
       "2022-12-27 -0.013878 -0.020621  NaN -0.114089 -0.007414\n",
       "2022-12-28 -0.030685 -0.015677  NaN  0.033089 -0.010255\n",
       "2022-12-29  0.028324  0.028249  NaN  0.080827  0.027630\n",
       "2022-12-30  0.002469 -0.002487  NaN  0.011164 -0.004937"
      ]
     },
     "execution_count": 26,
     "metadata": {},
     "output_type": "execute_result"
    }
   ],
   "source": [
    "returns.tail()"
   ]
  },
  {
   "cell_type": "code",
   "execution_count": null,
   "id": "38d4882e",
   "metadata": {},
   "outputs": [],
   "source": []
  }
 ],
 "metadata": {
  "kernelspec": {
   "display_name": "Python 3 (ipykernel)",
   "language": "python",
   "name": "python3"
  },
  "language_info": {
   "codemirror_mode": {
    "name": "ipython",
    "version": 3
   },
   "file_extension": ".py",
   "mimetype": "text/x-python",
   "name": "python",
   "nbconvert_exporter": "python",
   "pygments_lexer": "ipython3",
   "version": "3.10.10"
  }
 },
 "nbformat": 4,
 "nbformat_minor": 5
}
